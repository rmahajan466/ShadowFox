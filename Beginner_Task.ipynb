{
  "nbformat": 4,
  "nbformat_minor": 0,
  "metadata": {
    "colab": {
      "provenance": []
    },
    "kernelspec": {
      "name": "python3",
      "display_name": "Python 3"
    },
    "language_info": {
      "name": "python"
    }
  },
  "cells": [
    {
      "cell_type": "markdown",
      "source": [
        "Variables\n",
        "\n",
        "a. Create a variable named pi and store the value 22/7 in it. Now check the data type of this variable.\n",
        "\n",
        "b. Create a variable called for and assign it a value 4. See what happens and find out the reason behind the behavior that you see.\n",
        "\n",
        "c. Store the principal amount, rate of interest, and time in different variables and then calculate the Simple Interest for 3 years. Formula: Simple Interest = P x R x T / 100"
      ],
      "metadata": {
        "id": "cO_6qq-E_mj8"
      }
    },
    {
      "cell_type": "code",
      "source": [
        "#a\n",
        "pi = 22/7\n",
        "print(type(pi))"
      ],
      "metadata": {
        "colab": {
          "base_uri": "https://localhost:8080/"
        },
        "id": "6GjqpNTP_zJc",
        "outputId": "1972d35f-9107-4032-a76d-4d3c0c81a03b"
      },
      "execution_count": 10,
      "outputs": [
        {
          "output_type": "stream",
          "name": "stdout",
          "text": [
            "<class 'float'>\n"
          ]
        }
      ]
    },
    {
      "cell_type": "code",
      "source": [
        "#b\n",
        "for = 4"
      ],
      "metadata": {
        "colab": {
          "base_uri": "https://localhost:8080/",
          "height": 106
        },
        "id": "2SQUuZm3_1UU",
        "outputId": "ac225c95-226f-4ad5-d9f8-ed6ffb162def"
      },
      "execution_count": null,
      "outputs": [
        {
          "output_type": "error",
          "ename": "SyntaxError",
          "evalue": "invalid syntax (<ipython-input-4-58484f6fd196>, line 2)",
          "traceback": [
            "\u001b[0;36m  File \u001b[0;32m\"<ipython-input-4-58484f6fd196>\"\u001b[0;36m, line \u001b[0;32m2\u001b[0m\n\u001b[0;31m    for = 4\u001b[0m\n\u001b[0m        ^\u001b[0m\n\u001b[0;31mSyntaxError\u001b[0m\u001b[0;31m:\u001b[0m invalid syntax\n"
          ]
        }
      ]
    },
    {
      "cell_type": "markdown",
      "source": [
        "There is a Syntax error because, \"for\" is a reserved keyword and we can not use it as a variable name."
      ],
      "metadata": {
        "id": "aRAtwDb1AExW"
      }
    },
    {
      "cell_type": "code",
      "source": [
        "#c\n",
        "p = 10000\n",
        "r = 10\n",
        "t = 3\n",
        "si = (p*r*t)/100\n",
        "print(si)"
      ],
      "metadata": {
        "colab": {
          "base_uri": "https://localhost:8080/"
        },
        "id": "FBE4ehZZADJF",
        "outputId": "db41a440-017d-409f-8e81-1eac8be45c52"
      },
      "execution_count": null,
      "outputs": [
        {
          "output_type": "stream",
          "name": "stdout",
          "text": [
            "3000.0\n"
          ]
        }
      ]
    },
    {
      "cell_type": "markdown",
      "source": [
        "Numbers\n",
        "\n",
        "1. Write a function that takes two arguments, 145 and 'o', and uses the `format` function to return a formatted string. Print the result. Try to identify the representation used.\n",
        "\n",
        "2. In a village, there is a circular pond with a radius of 84 meters. Calculate the area of the pond using the formula: Circle Area = πr^2. (Use the value 3.14 for π) Bonus Question: If there is exactly 1.4 liters of water in a square meter, what is the total amount of water in the pond? Print the answer without any decimal point in it. Hint: Circle Area = π r^2 Water in the pond = Pond Area Water per Square Meter\n",
        "\n",
        "3. If you cross a 490meterlong street in 7 minutes, calculate your speed in meters per second. Print the answer without any decimal point in it. Hint: Speed = Distance / Time"
      ],
      "metadata": {
        "id": "giFhj82sGUCm"
      }
    },
    {
      "cell_type": "code",
      "source": [
        "#1\n",
        "def format_number(number, format_type):\n",
        "    formatted_string = format(number, format_type)\n",
        "    return formatted_string\n",
        "\n",
        "# Example usage\n",
        "number = 145\n",
        "format_type = 'o'\n",
        "result = format_number(number, format_type)\n",
        "print(result)  # This should print the octal representation of 145\n"
      ],
      "metadata": {
        "colab": {
          "base_uri": "https://localhost:8080/"
        },
        "id": "oaZv1PSfGOy_",
        "outputId": "16266e80-ba59-4f55-b306-93e554cf7672"
      },
      "execution_count": null,
      "outputs": [
        {
          "output_type": "stream",
          "name": "stdout",
          "text": [
            "221\n"
          ]
        }
      ]
    },
    {
      "cell_type": "code",
      "source": [
        "#2\n",
        "\n",
        "# Define the radius of the pond\n",
        "radius = 84\n",
        "\n",
        "# Define the value of π\n",
        "pi = 3.14\n",
        "\n",
        "# Calculate the area of the pond\n",
        "pond_area = pi * (radius ** 2)\n",
        "\n",
        "# Define the amount of water per square meter\n",
        "water_per_square_meter = 1.4\n",
        "\n",
        "# Calculate the total amount of water in the pond\n",
        "total_water = pond_area * water_per_square_meter\n",
        "\n",
        "# Print the total amount of water without any decimal points\n",
        "print(int(total_water))\n"
      ],
      "metadata": {
        "id": "PcY74MvsGzbz",
        "colab": {
          "base_uri": "https://localhost:8080/"
        },
        "outputId": "1325b064-3fb3-4728-e2c9-902bb761fe1e"
      },
      "execution_count": 2,
      "outputs": [
        {
          "output_type": "stream",
          "name": "stdout",
          "text": [
            "31018\n"
          ]
        }
      ]
    },
    {
      "cell_type": "code",
      "source": [
        "#3\n",
        "\n",
        "# Define the distance in meters\n",
        "distance = 490\n",
        "\n",
        "# Define the time in minutes and convert it to seconds\n",
        "time_minutes = 7\n",
        "time_seconds = time_minutes * 60\n",
        "\n",
        "# Calculate the speed in meters per second\n",
        "speed = distance / time_seconds\n",
        "\n",
        "# Print the speed without any decimal points\n",
        "print(int(speed))"
      ],
      "metadata": {
        "colab": {
          "base_uri": "https://localhost:8080/"
        },
        "id": "O45StZxjXV6G",
        "outputId": "2baccc89-5849-45cf-d61e-06dc8b1c84b5"
      },
      "execution_count": 3,
      "outputs": [
        {
          "output_type": "stream",
          "name": "stdout",
          "text": [
            "1\n"
          ]
        }
      ]
    },
    {
      "cell_type": "markdown",
      "source": [
        "List\n",
        "1. You have a list of superheroes representing the Justice League. justice_league = [\"Superman\",\"Batman\",\"Wonder Woman\",\"Flash\",\"Aquaman\",\"Green Lantern\"]\n",
        "\n",
        "Perform the following tasks:\n",
        "\n",
        "1. Calculate the number of members in the Justice League.\n",
        "\n",
        "2. Batman recruited Batgirl and Nightwing as new members. Add them to your list.\n",
        "\n",
        "3. Wonder Woman is now the leader of the Justice League. Move her to the beginning of the list.\n",
        "\n",
        "4. Aquaman and Flash are having conflicts, and you need to separate them. Choose either \"Green Lantern\" or \"Superman\" and move them in between Aquaman and Flash.\n",
        "\n",
        "5. The Justice League faced a crisis, and Superman decided to\n",
        "assemble a new team. Replace the existing list with the following\n",
        "new members: \"Cyborg\",\"Shazam\",\"Hawkgirl\",\"Martian Manhunter\",\"Green Arrow\".\n",
        "\n",
        "6. Sort the Justice League alphabetically. The hero at the 0th index will become the new leader.\n",
        "\n",
        "(BONUS: Can you predict who the new leader will be?)\n",
        "\n",
        "Your task is to write Python code to perform these operations on\n",
        "the \"justice_league\" list. Display the list at each step to observe\n",
        "the changes."
      ],
      "metadata": {
        "id": "oxxV-MBxXwsH"
      }
    },
    {
      "cell_type": "code",
      "source": [
        "# Initial list of Justice League members\n",
        "justice_league = [\"Superman\", \"Batman\", \"Wonder Woman\", \"Flash\", \"Aquaman\", \"Green Lantern\"]\n",
        "\n",
        "# 1. Calculate the number of members in the Justice League\n",
        "num_members = len(justice_league)\n",
        "print(f\"Number of members: {num_members}\")\n",
        "\n",
        "# 2. Batman recruited Batgirl and Nightwing as new members. Add them to your list.\n",
        "justice_league.extend([\"Batgirl\", \"Nightwing\"])\n",
        "print(f\"After adding Batgirl and Nightwing: {justice_league}\")\n",
        "\n",
        "# 3. Wonder Woman is now the leader of the Justice League. Move her to the beginning of the list.\n",
        "justice_league.remove(\"Wonder Woman\")\n",
        "justice_league.insert(0, \"Wonder Woman\")\n",
        "print(f\"Wonder Woman as the leader: {justice_league}\")\n",
        "\n",
        "# 4. Aquaman and Flash are having conflicts, and you need to separate them.\n",
        "# Move Green Lantern between Aquaman and Flash.\n",
        "justice_league.remove(\"Green Lantern\")\n",
        "flash_index = justice_league.index(\"Flash\")\n",
        "justice_league.insert(flash_index, \"Green Lantern\")\n",
        "print(f\"Aquaman and Flash separated: {justice_league}\")\n",
        "\n",
        "# 5. The Justice League faced a crisis, and Superman decided to assemble a new team.\n",
        "new_team = [\"Cyborg\", \"Shazam\", \"Hawkgirl\", \"Martian Manhunter\", \"Green Arrow\"]\n",
        "justice_league = new_team\n",
        "print(f\"New Justice League team: {justice_league}\")\n",
        "\n",
        "# 6. Sort the Justice League alphabetically. The hero at the 0th index will become the new leader.\n",
        "justice_league.sort()\n",
        "print(f\"Alphabetically sorted Justice League: {justice_league}\")\n",
        "\n",
        "# Predict the new leader\n",
        "new_leader = justice_league[0]\n",
        "print(f\"New leader: {new_leader}\")\n"
      ],
      "metadata": {
        "colab": {
          "base_uri": "https://localhost:8080/"
        },
        "id": "G0wbqVlgXnH7",
        "outputId": "bf17f5cb-244f-4c14-cfc1-9af9a739aad4"
      },
      "execution_count": 4,
      "outputs": [
        {
          "output_type": "stream",
          "name": "stdout",
          "text": [
            "Number of members: 6\n",
            "After adding Batgirl and Nightwing: ['Superman', 'Batman', 'Wonder Woman', 'Flash', 'Aquaman', 'Green Lantern', 'Batgirl', 'Nightwing']\n",
            "Wonder Woman as the leader: ['Wonder Woman', 'Superman', 'Batman', 'Flash', 'Aquaman', 'Green Lantern', 'Batgirl', 'Nightwing']\n",
            "Aquaman and Flash separated: ['Wonder Woman', 'Superman', 'Batman', 'Green Lantern', 'Flash', 'Aquaman', 'Batgirl', 'Nightwing']\n",
            "New Justice League team: ['Cyborg', 'Shazam', 'Hawkgirl', 'Martian Manhunter', 'Green Arrow']\n",
            "Alphabetically sorted Justice League: ['Cyborg', 'Green Arrow', 'Hawkgirl', 'Martian Manhunter', 'Shazam']\n",
            "New leader: Cyborg\n"
          ]
        }
      ]
    },
    {
      "cell_type": "markdown",
      "source": [
        "If Condition\n",
        "\n",
        "1. Write a program to determine the BMI Category based on user input.\n",
        "Ask the user to:\n",
        "Enter height in meters\n",
        "Enter weight in kilograms\n",
        "Calculate BMI using the formula: BMI = weight / (height)2\n",
        "Use the following categories:\n",
        "If BMI is 30 or greater, print \"Obesity\"\n",
        "If BMI is between 25 and 29, print \"Overweight\"\n",
        "If BMI is between 18.5 and 25, print \"Normal\"\n",
        "If BMI is less than 18.5, print \"Underweight\"\n",
        "Example:\n",
        "Enter height in meters: 1.75\n",
        "Enter weight in kilograms: 70\n",
        "Output: \"Normal\"\n",
        "\n",
        "2. Write a program to determine which country a city belongs to. Given\n",
        "list of cities per country:\n",
        "Australia = [\"Sydney\",\"Melbourne\",\"Brisbane\",\"Perth\"]\n",
        "\n",
        "UAE = [\"Dubai\",\"Abu Dhabi\",\"Sharjah\",\"Ajman\"]\n",
        "\n",
        "India = [\"Mumbai\",\"Bangalore\",\"Chennai\",\"Delhi\"]\n",
        "\n",
        "Ask the user to enter a city name and print the corresponding country.\n",
        "Example:\n",
        "Enter a city name: \"Abu Dhabi\"\n",
        "Output: \"Abu Dhabi is in UAE\"\n",
        "\n",
        "3. Write a program to check if two cities belong to the same country.\n",
        "Ask the user to enter two cities and print whether they belong to the\n",
        "same country or not.\n",
        "\n",
        "Example:\n",
        "Enter the first city: \"Mumbai\"\n",
        "Enter the second city: \"Chennai\"\n",
        "Output: \"Both cities are in India\"\n",
        "\n",
        "Example:\n",
        "Enter the first city: \"Sydney\"\n",
        "Enter the second city: \"Dubai\"\n",
        "Output: \"They don't belong to the same country\""
      ],
      "metadata": {
        "id": "DVVKzkU6ZA5D"
      }
    },
    {
      "cell_type": "code",
      "source": [
        "#1\n",
        "\n",
        "# Function to calculate BMI and determine the category\n",
        "def calculate_bmi(height, weight):\n",
        "    bmi = weight / (height ** 2)\n",
        "    if bmi >= 30:\n",
        "        return \"Obesity\"\n",
        "    elif 25 <= bmi < 30:\n",
        "        return \"Overweight\"\n",
        "    elif 18.5 <= bmi < 25:\n",
        "        return \"Normal\"\n",
        "    else:\n",
        "        return \"Underweight\"\n",
        "\n",
        "# Ask the user to enter height in meters and weight in kilograms\n",
        "height = float(input(\"Enter height in meters: \"))\n",
        "weight = float(input(\"Enter weight in kilograms: \"))\n",
        "\n",
        "# Calculate BMI and get the category\n",
        "bmi_category = calculate_bmi(height, weight)\n",
        "\n",
        "# Print the BMI category\n",
        "print(f\"Output: \\\"{bmi_category}\\\"\")\n"
      ],
      "metadata": {
        "colab": {
          "base_uri": "https://localhost:8080/"
        },
        "id": "nCjLvYniY2on",
        "outputId": "a36c162d-e566-4e2d-913d-fcb80ff87b56"
      },
      "execution_count": 5,
      "outputs": [
        {
          "output_type": "stream",
          "name": "stdout",
          "text": [
            "Enter height in meters: 1.77\n",
            "Enter weight in kilograms: 75\n",
            "Output: \"Normal\"\n"
          ]
        }
      ]
    },
    {
      "cell_type": "code",
      "source": [
        "#2\n",
        "\n",
        "# Lists of cities per country\n",
        "australia_cities = [\"Sydney\", \"Melbourne\", \"Brisbane\", \"Perth\"]\n",
        "uae_cities = [\"Dubai\", \"Abu Dhabi\", \"Sharjah\", \"Ajman\"]\n",
        "india_cities = [\"Mumbai\", \"Bangalore\", \"Chennai\", \"Delhi\"]\n",
        "\n",
        "# Function to determine the country of a given city\n",
        "def find_country(city):\n",
        "    if city in australia_cities:\n",
        "        return \"Australia\"\n",
        "    elif city in uae_cities:\n",
        "        return \"UAE\"\n",
        "    elif city in india_cities:\n",
        "        return \"India\"\n",
        "    else:\n",
        "        return None\n",
        "\n",
        "# Ask the user to enter a city name\n",
        "city_name = input(\"Enter a city name: \")\n",
        "\n",
        "# Determine the country of the entered city\n",
        "country = find_country(city_name)\n",
        "\n",
        "# Print the corresponding country or an error message if city not found\n",
        "if country:\n",
        "    print(f\"{city_name} is in {country}\")\n",
        "else:\n",
        "    print(f\"City {city_name} not found in the list of known cities.\")\n"
      ],
      "metadata": {
        "colab": {
          "base_uri": "https://localhost:8080/"
        },
        "id": "M-kMBHZMZqV6",
        "outputId": "8e5a1e2d-5a85-4e01-f156-b946194f8549"
      },
      "execution_count": 6,
      "outputs": [
        {
          "output_type": "stream",
          "name": "stdout",
          "text": [
            "Enter a city name: Sydney\n",
            "Sydney is in Australia\n"
          ]
        }
      ]
    },
    {
      "cell_type": "code",
      "source": [
        "#3\n",
        "\n",
        "# Lists of cities per country\n",
        "australia_cities = [\"Sydney\", \"Melbourne\", \"Brisbane\", \"Perth\"]\n",
        "uae_cities = [\"Dubai\", \"Abu Dhabi\", \"Sharjah\", \"Ajman\"]\n",
        "india_cities = [\"Mumbai\", \"Bangalore\", \"Chennai\", \"Delhi\"]\n",
        "\n",
        "# Function to determine the country of a given city\n",
        "def find_country(city):\n",
        "    if city in australia_cities:\n",
        "        return \"Australia\"\n",
        "    elif city in uae_cities:\n",
        "        return \"UAE\"\n",
        "    elif city in india_cities:\n",
        "        return \"India\"\n",
        "    else:\n",
        "        return None\n",
        "\n",
        "# Ask the user to enter two city names\n",
        "city1 = input(\"Enter the first city: \")\n",
        "city2 = input(\"Enter the second city: \")\n",
        "\n",
        "# Determine the countries of the entered cities\n",
        "country1 = find_country(city1)\n",
        "country2 = find_country(city2)\n",
        "\n",
        "# Check if both cities belong to the same country and print the result\n",
        "if country1 and country2:\n",
        "    if country1 == country2:\n",
        "        print(f\"Both cities are in {country1}\")\n",
        "    else:\n",
        "        print(\"They don't belong to the same country\")\n",
        "else:\n",
        "    print(\"One or both cities are not found in the list of known cities.\")\n"
      ],
      "metadata": {
        "colab": {
          "base_uri": "https://localhost:8080/"
        },
        "id": "3DqJfVeuZ7Nc",
        "outputId": "097fdad0-6d5a-4967-cfd7-6d941857a11e"
      },
      "execution_count": 7,
      "outputs": [
        {
          "output_type": "stream",
          "name": "stdout",
          "text": [
            "Enter the first city: Mumbai\n",
            "Enter the second city: Abu Dhabi\n",
            "They don't belong to the same country\n"
          ]
        }
      ]
    },
    {
      "cell_type": "markdown",
      "source": [
        "For Loop:\n",
        "1. Using a for loop, simulate rolling a sixsided die multiple times (at least 20\n",
        "times).\n",
        "Count and print the following statistics:\n",
        "How many times you rolled a 6\n",
        "How many times you rolled a 1\n",
        "How many times you rolled two 6s in a row\n",
        "\n",
        "2. Imagine you are doing a workout routine, and you have to complete 100\n",
        "jumping jacks.\n",
        "Write a program that:\n",
        "Asks you to perform 10 jumping jacks at a time.\n",
        "After each set, it asks, \"Are you tired?\"\n",
        "If you reply \"yes\" or \"y,\" it should ask if you want to skip the remaining sets.\n",
        "If you reply \"yes\" or \"y,\" it should break and print, \"You completed a total of\n",
        "jumping jacks.\"\n",
        "For example, if you did only 30 jumping jacks and answered \"yes,\" the program\n",
        "will break and print, \"You completed a total of 30 jumping jacks.\"\n",
        "If you reply \"no\" or \"n,\" it should continue and display how many jumping jacks\n",
        "are remaining. After that, ask you again, \"Are you tired?\"\n",
        "For example, if you answered \"no,\" it should display that 70 jumping jacks are\n",
        "remaining and ask you again, \"Are you tired?\"\n",
        "If you reply \"no\" or \"n,\" it should continue and display how many jumping jacks\n",
        "are remaining. After that, ask you again, \"Are you tired?\"\n",
        "For example, if you answered \"no,\" it should display that 70 jumping jacks are\n",
        "remaining and ask you again, \"Are you tired?\"\n",
        "If you complete all 100 jumping jacks, it should print, \"Congratulations! You\n",
        "completed the workout,\" and stop the program"
      ],
      "metadata": {
        "id": "CDlESZtvaXsW"
      }
    },
    {
      "cell_type": "code",
      "source": [
        "#1\n",
        "\n",
        "import random\n",
        "\n",
        "# Number of times to roll the die\n",
        "num_rolls = 20\n",
        "\n",
        "# Initialize counters for specific outcomes\n",
        "count_6 = 0\n",
        "count_1 = 0\n",
        "count_two_6s_in_a_row = 0\n",
        "\n",
        "# Variable to keep track of the previous roll\n",
        "previous_roll = None\n",
        "\n",
        "# Simulate rolling the die multiple times\n",
        "for _ in range(num_rolls):\n",
        "    roll = random.randint(1, 6)\n",
        "    print(roll, end=' ')  # Print each roll for reference\n",
        "\n",
        "    # Count the occurrences of rolling a 6\n",
        "    if roll == 6:\n",
        "        count_6 += 1\n",
        "\n",
        "    # Count the occurrences of rolling a 1\n",
        "    if roll == 1:\n",
        "        count_1 += 1\n",
        "\n",
        "    # Count the occurrences of rolling two 6s in a row\n",
        "    if previous_roll == 6 and roll == 6:\n",
        "        count_two_6s_in_a_row += 1\n",
        "\n",
        "    # Update the previous roll\n",
        "    previous_roll = roll\n",
        "\n",
        "# Print the statistics\n",
        "print(\"\\nStatistics:\")\n",
        "print(f\"Number of times rolled a 6: {count_6}\")\n",
        "print(f\"Number of times rolled a 1: {count_1}\")\n",
        "print(f\"Number of times rolled two 6s in a row: {count_two_6s_in_a_row}\")\n"
      ],
      "metadata": {
        "colab": {
          "base_uri": "https://localhost:8080/"
        },
        "id": "VDATIWzOaITD",
        "outputId": "7b4cfa73-beb4-458d-d770-8239dd4d3f89"
      },
      "execution_count": 8,
      "outputs": [
        {
          "output_type": "stream",
          "name": "stdout",
          "text": [
            "3 3 3 5 4 2 4 5 3 2 5 4 4 2 3 3 6 4 5 5 \n",
            "Statistics:\n",
            "Number of times rolled a 6: 1\n",
            "Number of times rolled a 1: 0\n",
            "Number of times rolled two 6s in a row: 0\n"
          ]
        }
      ]
    },
    {
      "cell_type": "code",
      "source": [
        "#2\n",
        "\n",
        "# Total number of jumping jacks to complete\n",
        "total_jumping_jacks = 100\n",
        "# Number of jumping jacks per set\n",
        "set_size = 10\n",
        "# Counter for completed jumping jacks\n",
        "completed_jumping_jacks = 0\n",
        "\n",
        "# Loop for the number of sets required to complete the workout\n",
        "for _ in range(total_jumping_jacks // set_size):\n",
        "    # Perform a set of jumping jacks\n",
        "    completed_jumping_jacks += set_size\n",
        "\n",
        "    # Ask if the user is tired\n",
        "    tired = input(\"Are you tired? (yes/y or no/n): \").strip().lower()\n",
        "\n",
        "    if tired in [\"yes\", \"y\"]:\n",
        "        # Ask if the user wants to skip the remaining sets\n",
        "        skip_remaining = input(\"Do you want to skip the remaining sets? (yes/y or no/n): \").strip().lower()\n",
        "        if skip_remaining in [\"yes\", \"y\"]:\n",
        "            # Break the loop if the user wants to skip\n",
        "            print(f\"You completed a total of {completed_jumping_jacks} jumping jacks.\")\n",
        "            break\n",
        "    else:\n",
        "        # Print the remaining jumping jacks if the user is not tired or doesn't want to skip\n",
        "        remaining_jumping_jacks = total_jumping_jacks - completed_jumping_jacks\n",
        "        print(f\"{remaining_jumping_jacks} jumping jacks remaining.\")\n",
        "\n",
        "# Check if all jumping jacks were completed\n",
        "if completed_jumping_jacks == total_jumping_jacks:\n",
        "    print(\"Congratulations! You completed the workout.\")\n"
      ],
      "metadata": {
        "colab": {
          "base_uri": "https://localhost:8080/"
        },
        "id": "AersRvitavHH",
        "outputId": "b26eb106-691e-42e1-fac1-46e8f0f5e03c"
      },
      "execution_count": 9,
      "outputs": [
        {
          "output_type": "stream",
          "name": "stdout",
          "text": [
            "Are you tired? (yes/y or no/n): n\n",
            "90 jumping jacks remaining.\n",
            "Are you tired? (yes/y or no/n): y\n",
            "Do you want to skip the remaining sets? (yes/y or no/n): n\n",
            "Are you tired? (yes/y or no/n): n\n",
            "70 jumping jacks remaining.\n",
            "Are you tired? (yes/y or no/n): n\n",
            "60 jumping jacks remaining.\n",
            "Are you tired? (yes/y or no/n): n\n",
            "50 jumping jacks remaining.\n",
            "Are you tired? (yes/y or no/n): n\n",
            "40 jumping jacks remaining.\n",
            "Are you tired? (yes/y or no/n): y\n",
            "Do you want to skip the remaining sets? (yes/y or no/n): n\n",
            "Are you tired? (yes/y or no/n): n\n",
            "20 jumping jacks remaining.\n",
            "Are you tired? (yes/y or no/n): y\n",
            "Do you want to skip the remaining sets? (yes/y or no/n): n\n",
            "Are you tired? (yes/y or no/n): n\n",
            "0 jumping jacks remaining.\n",
            "Congratulations! You completed the workout.\n"
          ]
        }
      ]
    }
  ]
}